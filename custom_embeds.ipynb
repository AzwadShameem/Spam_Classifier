{
 "cells": [
  {
   "cell_type": "code",
   "execution_count": 1,
   "metadata": {},
   "outputs": [],
   "source": [
    "import pandas as pd\n",
    "from dictionary import dictionary as dictionary\n",
    "from sklearn.model_selection import train_test_split\n",
    "from sklearn.naive_bayes import ComplementNB\n",
    "from sklearn.metrics import classification_report\n",
    "from re import sub as regex\n",
    "from nltk.tokenize import word_tokenize\n",
    "from nltk.corpus import stopwords\n",
    "from nltk.stem import PorterStemmer as Stemmer"
   ]
  },
  {
   "cell_type": "code",
   "execution_count": 2,
   "metadata": {},
   "outputs": [
    {
     "data": {
      "text/html": [
       "<div>\n",
       "<style scoped>\n",
       "    .dataframe tbody tr th:only-of-type {\n",
       "        vertical-align: middle;\n",
       "    }\n",
       "\n",
       "    .dataframe tbody tr th {\n",
       "        vertical-align: top;\n",
       "    }\n",
       "\n",
       "    .dataframe thead th {\n",
       "        text-align: right;\n",
       "    }\n",
       "</style>\n",
       "<table border=\"1\" class=\"dataframe\">\n",
       "  <thead>\n",
       "    <tr style=\"text-align: right;\">\n",
       "      <th></th>\n",
       "      <th>type</th>\n",
       "      <th>sms</th>\n",
       "      <th>processedSMS</th>\n",
       "      <th>filteredSMS</th>\n",
       "    </tr>\n",
       "  </thead>\n",
       "  <tbody>\n",
       "    <tr>\n",
       "      <th>0</th>\n",
       "      <td>0</td>\n",
       "      <td>ok. I am a gentleman and will treat you with d...</td>\n",
       "      <td>ok gentleman treat digniti respect</td>\n",
       "      <td>['ok', 'gentleman', 'treat', 'digniti', 'respe...</td>\n",
       "    </tr>\n",
       "    <tr>\n",
       "      <th>1</th>\n",
       "      <td>0</td>\n",
       "      <td>Lol its ok I didn't remember til last nite</td>\n",
       "      <td>lol ok rememb til last nite</td>\n",
       "      <td>['lol', 'ok', 'rememb', 'til', 'last', 'nite']</td>\n",
       "    </tr>\n",
       "    <tr>\n",
       "      <th>2</th>\n",
       "      <td>0</td>\n",
       "      <td>Apo all other are mokka players only</td>\n",
       "      <td>apo mokka player</td>\n",
       "      <td>['apo', 'mokka', 'player']</td>\n",
       "    </tr>\n",
       "    <tr>\n",
       "      <th>3</th>\n",
       "      <td>0</td>\n",
       "      <td>Hey cutie. How goes it? Here in WALES its kind...</td>\n",
       "      <td>hey cuti goe wale kinda ok like hill shit stil...</td>\n",
       "      <td>['hey', 'cuti', 'goe', 'wale', 'kinda', 'ok', ...</td>\n",
       "    </tr>\n",
       "    <tr>\n",
       "      <th>4</th>\n",
       "      <td>0</td>\n",
       "      <td>How much i gave to you. Morning.</td>\n",
       "      <td>much gave morn</td>\n",
       "      <td>['much', 'gave', 'morn']</td>\n",
       "    </tr>\n",
       "  </tbody>\n",
       "</table>\n",
       "</div>"
      ],
      "text/plain": [
       "   type                                                sms  \\\n",
       "0     0  ok. I am a gentleman and will treat you with d...   \n",
       "1     0         Lol its ok I didn't remember til last nite   \n",
       "2     0               Apo all other are mokka players only   \n",
       "3     0  Hey cutie. How goes it? Here in WALES its kind...   \n",
       "4     0                   How much i gave to you. Morning.   \n",
       "\n",
       "                                        processedSMS  \\\n",
       "0                 ok gentleman treat digniti respect   \n",
       "1                        lol ok rememb til last nite   \n",
       "2                                   apo mokka player   \n",
       "3  hey cuti goe wale kinda ok like hill shit stil...   \n",
       "4                                     much gave morn   \n",
       "\n",
       "                                         filteredSMS  \n",
       "0  ['ok', 'gentleman', 'treat', 'digniti', 'respe...  \n",
       "1     ['lol', 'ok', 'rememb', 'til', 'last', 'nite']  \n",
       "2                         ['apo', 'mokka', 'player']  \n",
       "3  ['hey', 'cuti', 'goe', 'wale', 'kinda', 'ok', ...  \n",
       "4                           ['much', 'gave', 'morn']  "
      ]
     },
     "execution_count": 2,
     "metadata": {},
     "output_type": "execute_result"
    }
   ],
   "source": [
    "df = pd.read_csv(\"undersampled_spam.csv\", encoding='latin')\n",
    "df = df.drop(columns=[\"Unnamed: 0\"])\n",
    "df.head()"
   ]
  },
  {
   "cell_type": "code",
   "execution_count": 3,
   "metadata": {},
   "outputs": [
    {
     "data": {
      "text/html": [
       "<div>\n",
       "<style scoped>\n",
       "    .dataframe tbody tr th:only-of-type {\n",
       "        vertical-align: middle;\n",
       "    }\n",
       "\n",
       "    .dataframe tbody tr th {\n",
       "        vertical-align: top;\n",
       "    }\n",
       "\n",
       "    .dataframe thead th {\n",
       "        text-align: right;\n",
       "    }\n",
       "</style>\n",
       "<table border=\"1\" class=\"dataframe\">\n",
       "  <thead>\n",
       "    <tr style=\"text-align: right;\">\n",
       "      <th></th>\n",
       "      <th>type</th>\n",
       "      <th>sms</th>\n",
       "      <th>processedSMS</th>\n",
       "      <th>filteredSMS</th>\n",
       "      <th>embed</th>\n",
       "    </tr>\n",
       "  </thead>\n",
       "  <tbody>\n",
       "    <tr>\n",
       "      <th>0</th>\n",
       "      <td>0</td>\n",
       "      <td>ok. I am a gentleman and will treat you with d...</td>\n",
       "      <td>ok gentleman treat digniti respect</td>\n",
       "      <td>['ok', 'gentleman', 'treat', 'digniti', 'respe...</td>\n",
       "      <td>[0, 0, 0, 0, 0, 0, 0, 0, 0, 0, 0, 0, 0, 0, 0, ...</td>\n",
       "    </tr>\n",
       "    <tr>\n",
       "      <th>1</th>\n",
       "      <td>0</td>\n",
       "      <td>Lol its ok I didn't remember til last nite</td>\n",
       "      <td>lol ok rememb til last nite</td>\n",
       "      <td>['lol', 'ok', 'rememb', 'til', 'last', 'nite']</td>\n",
       "      <td>[0, 0, 0, 0, 0, 0, 0, 0, 0, 0, 0, 0, 0, 0, 0, ...</td>\n",
       "    </tr>\n",
       "    <tr>\n",
       "      <th>2</th>\n",
       "      <td>0</td>\n",
       "      <td>Apo all other are mokka players only</td>\n",
       "      <td>apo mokka player</td>\n",
       "      <td>['apo', 'mokka', 'player']</td>\n",
       "      <td>[0, 0, 0, 0, 0, 0, 0, 0, 0, 0, 0, 0, 0, 0, 0, ...</td>\n",
       "    </tr>\n",
       "    <tr>\n",
       "      <th>3</th>\n",
       "      <td>0</td>\n",
       "      <td>Hey cutie. How goes it? Here in WALES its kind...</td>\n",
       "      <td>hey cuti goe wale kinda ok like hill shit stil...</td>\n",
       "      <td>['hey', 'cuti', 'goe', 'wale', 'kinda', 'ok', ...</td>\n",
       "      <td>[0, 0, 0, 0, 0, 0, 0, 0, 0, 0, 0, 0, 0, 0, 0, ...</td>\n",
       "    </tr>\n",
       "    <tr>\n",
       "      <th>4</th>\n",
       "      <td>0</td>\n",
       "      <td>How much i gave to you. Morning.</td>\n",
       "      <td>much gave morn</td>\n",
       "      <td>['much', 'gave', 'morn']</td>\n",
       "      <td>[0, 0, 0, 0, 0, 0, 0, 0, 0, 0, 0, 0, 0, 0, 0, ...</td>\n",
       "    </tr>\n",
       "  </tbody>\n",
       "</table>\n",
       "</div>"
      ],
      "text/plain": [
       "   type                                                sms  \\\n",
       "0     0  ok. I am a gentleman and will treat you with d...   \n",
       "1     0         Lol its ok I didn't remember til last nite   \n",
       "2     0               Apo all other are mokka players only   \n",
       "3     0  Hey cutie. How goes it? Here in WALES its kind...   \n",
       "4     0                   How much i gave to you. Morning.   \n",
       "\n",
       "                                        processedSMS  \\\n",
       "0                 ok gentleman treat digniti respect   \n",
       "1                        lol ok rememb til last nite   \n",
       "2                                   apo mokka player   \n",
       "3  hey cuti goe wale kinda ok like hill shit stil...   \n",
       "4                                     much gave morn   \n",
       "\n",
       "                                         filteredSMS  \\\n",
       "0  ['ok', 'gentleman', 'treat', 'digniti', 'respe...   \n",
       "1     ['lol', 'ok', 'rememb', 'til', 'last', 'nite']   \n",
       "2                         ['apo', 'mokka', 'player']   \n",
       "3  ['hey', 'cuti', 'goe', 'wale', 'kinda', 'ok', ...   \n",
       "4                           ['much', 'gave', 'morn']   \n",
       "\n",
       "                                               embed  \n",
       "0  [0, 0, 0, 0, 0, 0, 0, 0, 0, 0, 0, 0, 0, 0, 0, ...  \n",
       "1  [0, 0, 0, 0, 0, 0, 0, 0, 0, 0, 0, 0, 0, 0, 0, ...  \n",
       "2  [0, 0, 0, 0, 0, 0, 0, 0, 0, 0, 0, 0, 0, 0, 0, ...  \n",
       "3  [0, 0, 0, 0, 0, 0, 0, 0, 0, 0, 0, 0, 0, 0, 0, ...  \n",
       "4  [0, 0, 0, 0, 0, 0, 0, 0, 0, 0, 0, 0, 0, 0, 0, ...  "
      ]
     },
     "execution_count": 3,
     "metadata": {},
     "output_type": "execute_result"
    }
   ],
   "source": [
    "def embed(df):\n",
    "    embedding_layer = []\n",
    "    for sentences in df:\n",
    "        sentence = []\n",
    "        if len(sentences) < 1:\n",
    "            embedding_layer.append([dictionary['[empty]']])\n",
    "        else:\n",
    "            for word in sentences:\n",
    "                if any(charater.isdigit() for charater in word):\n",
    "                    sentence.append(dictionary['[number]'])\n",
    "                elif word in dictionary:\n",
    "                    sentence.append(dictionary[word])\n",
    "            embedding_layer.append(sentence)\n",
    "    \n",
    "    embedding_dim = []\n",
    "    for i in embedding_layer:\n",
    "        padding = []\n",
    "        for j in range(200 - len(i)):\n",
    "            padding.append(0)\n",
    "        padding.extend(i)\n",
    "        embedding_dim.append(padding)\n",
    "    return embedding_dim\n",
    "    \n",
    "df['embed'] = embed(df['filteredSMS'])\n",
    "df.head()  "
   ]
  },
  {
   "cell_type": "code",
   "execution_count": 4,
   "metadata": {},
   "outputs": [],
   "source": [
    "features, labels = embed(df['filteredSMS']), df[\"type\"]\n",
    "x_train, x_test, y_train, y_test = train_test_split(features, labels, test_size=0.15)\n",
    "x_train, x_val, y_train, y_val = train_test_split(features, labels, test_size=0.30)"
   ]
  },
  {
   "cell_type": "code",
   "execution_count": 5,
   "metadata": {},
   "outputs": [],
   "source": [
    "model = ComplementNB().fit(x_train, y_train)"
   ]
  },
  {
   "cell_type": "code",
   "execution_count": 6,
   "metadata": {},
   "outputs": [
    {
     "name": "stdout",
     "output_type": "stream",
     "text": [
      "              precision    recall  f1-score   support\n",
      "\n",
      "           0       0.91      0.93      0.92       126\n",
      "           1       0.91      0.88      0.89        99\n",
      "\n",
      "    accuracy                           0.91       225\n",
      "   macro avg       0.91      0.90      0.90       225\n",
      "weighted avg       0.91      0.91      0.91       225\n",
      "\n"
     ]
    }
   ],
   "source": [
    "y_pred = model.predict(x_test)\n",
    "print(classification_report(y_test, y_pred))\n"
   ]
  },
  {
   "cell_type": "code",
   "execution_count": 7,
   "metadata": {},
   "outputs": [
    {
     "name": "stdout",
     "output_type": "stream",
     "text": [
      "              precision    recall  f1-score   support\n",
      "\n",
      "           0       0.87      0.91      0.89       219\n",
      "           1       0.91      0.87      0.89       230\n",
      "\n",
      "    accuracy                           0.89       449\n",
      "   macro avg       0.89      0.89      0.89       449\n",
      "weighted avg       0.89      0.89      0.89       449\n",
      "\n"
     ]
    }
   ],
   "source": [
    "y_pred = model.predict(x_val)\n",
    "print(classification_report(y_val, y_pred))\n"
   ]
  },
  {
   "cell_type": "code",
   "execution_count": 8,
   "metadata": {},
   "outputs": [],
   "source": [
    "def processSMS(sms):\n",
    "    # Removes special characters - only letters and numbers remain + lowers text\n",
    "    sms = regex(r'[^a-zA-Z0-9]', ' ', sms.lower())\n",
    "    # Utilizes NLTK to tokenize text\n",
    "    sms = word_tokenize(sms)\n",
    "    # Utilizes removes NLTK stopwords from sms\n",
    "    sms = [word for word in sms if word not in stopwords.words('english')]\n",
    "    # Utilizes NLTK Stemmer to stem words\n",
    "    sms = [Stemmer().stem(word) for word in sms]\n",
    "    return [sms]"
   ]
  },
  {
   "cell_type": "code",
   "execution_count": 9,
   "metadata": {},
   "outputs": [
    {
     "data": {
      "text/plain": [
       "array([0], dtype=int64)"
      ]
     },
     "execution_count": 9,
     "metadata": {},
     "output_type": "execute_result"
    }
   ],
   "source": [
    "sms = 'free amazon gift card'\n",
    "model.predict(embed(processSMS(sms)))"
   ]
  },
  {
   "cell_type": "code",
   "execution_count": 10,
   "metadata": {},
   "outputs": [
    {
     "data": {
      "text/plain": [
       "array([0], dtype=int64)"
      ]
     },
     "execution_count": 10,
     "metadata": {},
     "output_type": "execute_result"
    }
   ],
   "source": [
    "sms = 'how are you today'\n",
    "model.predict(embed(processSMS(sms)))"
   ]
  }
 ],
 "metadata": {
  "kernelspec": {
   "display_name": "Python 3.9.12 ('base')",
   "language": "python",
   "name": "python3"
  },
  "language_info": {
   "codemirror_mode": {
    "name": "ipython",
    "version": 3
   },
   "file_extension": ".py",
   "mimetype": "text/x-python",
   "name": "python",
   "nbconvert_exporter": "python",
   "pygments_lexer": "ipython3",
   "version": "3.9.12"
  },
  "orig_nbformat": 4,
  "vscode": {
   "interpreter": {
    "hash": "43e34eac3890662f7ed4c344b2cd3566670b78864847db91090bdee248fee56c"
   }
  }
 },
 "nbformat": 4,
 "nbformat_minor": 2
}
