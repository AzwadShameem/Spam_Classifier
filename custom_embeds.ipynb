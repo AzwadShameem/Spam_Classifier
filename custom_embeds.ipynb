{
 "cells": [
  {
   "cell_type": "code",
   "execution_count": 10,
   "metadata": {},
   "outputs": [],
   "source": [
    "import pandas as pd\n",
    "from re import sub as regex\n",
    "import matplotlib.pyplot as plt\n",
    "from nltk.corpus import stopwords\n",
    "from nltk.tokenize import word_tokenize\n",
    "from sklearn.naive_bayes import ComplementNB\n",
    "from nltk.stem import PorterStemmer as Stemmer\n",
    "from dictionary import dictionary as dictionary\n",
    "from sklearn.neural_network import MLPClassifier\n",
    "from sklearn.model_selection import train_test_split\n",
    "from sklearn.metrics import classification_report, accuracy_score,precision_score, recall_score, precision_recall_curve, auc, confusion_matrix, ConfusionMatrixDisplay"
   ]
  },
  {
   "cell_type": "code",
   "execution_count": 11,
   "metadata": {},
   "outputs": [
    {
     "data": {
      "text/plain": "      type                                                sms  \\\n1341     1  Ur TONEXS subscription has been renewed and yo...   \n813      1  UpgrdCentre Orange customer, you may now claim...   \n162      0  Ok that would b lovely, if u r sure. Think abo...   \n65       0                       I've reached home finally...   \n653      0                           Your brother is a genius   \n\n                                           processedSMS  \\\n1341  ur tonex subscript renew charg 4 50 choos 10 p...   \n813   upgrdcentr orang custom may claim free camera ...   \n162   ok would b love u r sure think wot u want drin...   \n65                                     reach home final   \n653                                       brother geniu   \n\n                                            filteredSMS  \n1341  ['ur', 'tonex', 'subscript', 'renew', 'charg',...  \n813   ['upgrdcentr', 'orang', 'custom', 'may', 'clai...  \n162   ['ok', 'would', 'b', 'love', 'u', 'r', 'sure',...  \n65                           ['reach', 'home', 'final']  \n653                                ['brother', 'geniu']  ",
      "text/html": "<div>\n<style scoped>\n    .dataframe tbody tr th:only-of-type {\n        vertical-align: middle;\n    }\n\n    .dataframe tbody tr th {\n        vertical-align: top;\n    }\n\n    .dataframe thead th {\n        text-align: right;\n    }\n</style>\n<table border=\"1\" class=\"dataframe\">\n  <thead>\n    <tr style=\"text-align: right;\">\n      <th></th>\n      <th>type</th>\n      <th>sms</th>\n      <th>processedSMS</th>\n      <th>filteredSMS</th>\n    </tr>\n  </thead>\n  <tbody>\n    <tr>\n      <th>1341</th>\n      <td>1</td>\n      <td>Ur TONEXS subscription has been renewed and yo...</td>\n      <td>ur tonex subscript renew charg 4 50 choos 10 p...</td>\n      <td>['ur', 'tonex', 'subscript', 'renew', 'charg',...</td>\n    </tr>\n    <tr>\n      <th>813</th>\n      <td>1</td>\n      <td>UpgrdCentre Orange customer, you may now claim...</td>\n      <td>upgrdcentr orang custom may claim free camera ...</td>\n      <td>['upgrdcentr', 'orang', 'custom', 'may', 'clai...</td>\n    </tr>\n    <tr>\n      <th>162</th>\n      <td>0</td>\n      <td>Ok that would b lovely, if u r sure. Think abo...</td>\n      <td>ok would b love u r sure think wot u want drin...</td>\n      <td>['ok', 'would', 'b', 'love', 'u', 'r', 'sure',...</td>\n    </tr>\n    <tr>\n      <th>65</th>\n      <td>0</td>\n      <td>I've reached home finally...</td>\n      <td>reach home final</td>\n      <td>['reach', 'home', 'final']</td>\n    </tr>\n    <tr>\n      <th>653</th>\n      <td>0</td>\n      <td>Your brother is a genius</td>\n      <td>brother geniu</td>\n      <td>['brother', 'geniu']</td>\n    </tr>\n  </tbody>\n</table>\n</div>"
     },
     "execution_count": 11,
     "metadata": {},
     "output_type": "execute_result"
    }
   ],
   "source": [
    "df = pd.read_csv(\"undersampled_spam.csv\", encoding=\"latin\")\n",
    "df = df.drop(columns=[\"Unnamed: 0\"])\n",
    "df.sample(5)"
   ]
  },
  {
   "cell_type": "code",
   "execution_count": 12,
   "outputs": [
    {
     "name": "stdout",
     "output_type": "stream",
     "text": [
      "512\n"
     ]
    }
   ],
   "source": [
    "longest_sms = max([len(sms) for sms in df[\"filteredSMS\"]])\n",
    "print(longest_sms)"
   ],
   "metadata": {
    "collapsed": false
   }
  },
  {
   "cell_type": "code",
   "execution_count": 13,
   "metadata": {},
   "outputs": [
    {
     "data": {
      "text/plain": "1016    [9, 13, 1139, 13, 252, 182, 23, 41, 1048, 2, 1...\n936     [1048, 23, 9, 938, 103, 938, 938, 23, 772, 13,...\n661     [1048, 9, 119, 1399, 174, 13, 1139, 1048, 103,...\n770     [1139, 9, 2, 938, 13, 1399, 9, 938, 1048, 1139...\n709     [182, 41, 119, 2576, 1048, 0, 0, 0, 0, 0, 0, 0...\nName: padded_sms, dtype: object"
     },
     "execution_count": 13,
     "metadata": {},
     "output_type": "execute_result"
    }
   ],
   "source": [
    "def padding_layer(smsList):\n",
    "    word_to_indices = []\n",
    "    for sms in smsList:\n",
    "        sms_indices = []\n",
    "        if len(sms) < 1:\n",
    "            word_to_indices.append([dictionary[\"[empty]\"]])\n",
    "        else:\n",
    "            for word in sms:\n",
    "                if any(character.isdigit() for character in word):\n",
    "                    sms_indices.append(dictionary[\"[number]\"])\n",
    "                elif word in dictionary:\n",
    "                    sms_indices.append(dictionary[word])\n",
    "            word_to_indices.append(sms_indices)\n",
    "    \n",
    "    padded_sms = []\n",
    "    for indices in word_to_indices:\n",
    "        padding = indices\n",
    "        for j in range(longest_sms - len(indices)):\n",
    "            padding.append(0)\n",
    "        padded_sms.append(padding)\n",
    "    return padded_sms\n",
    "\n",
    "df[\"padded_sms\"] = padding_layer(df[\"filteredSMS\"])\n",
    "df[\"padded_sms\"].sample(5)"
   ]
  },
  {
   "cell_type": "code",
   "execution_count": 14,
   "outputs": [],
   "source": [
    "def preprocess(sms):\n",
    "    # Removes special characters - only letters and numbers remain + lowers text\n",
    "    sms = regex(r\"[^a-zA-Z0-9]\", \" \", sms.lower())\n",
    "    # Utilizes NLTK to tokenize text\n",
    "    sms = word_tokenize(sms)\n",
    "    # Utilizes removes NLTK stopwords from sms\n",
    "    sms = [word for word in sms if word not in stopwords.words(\"english\")]\n",
    "    # Utilizes NLTK Stemmer to stem words\n",
    "    sms = [Stemmer().stem(word) for word in sms]\n",
    "    return [sms]"
   ],
   "metadata": {
    "collapsed": false
   }
  },
  {
   "cell_type": "code",
   "execution_count": 15,
   "outputs": [],
   "source": [
    "def predict(model, sms, label):\n",
    "    print(f\"Correct: {label} - Prediction - {model.predict(padding_layer(preprocess(sms)))}\")"
   ],
   "metadata": {
    "collapsed": false
   }
  },
  {
   "cell_type": "code",
   "execution_count": 16,
   "outputs": [],
   "source": [
    "def run(model):\n",
    "    print(model)\n",
    "\n",
    "    # Loading Data\n",
    "    df = pd.read_csv(\"undersampled_spam.csv\", encoding=\"latin\")\n",
    "    df = df.dropna()\n",
    "\n",
    "    # Preparing Data\n",
    "    df[\"padded_sms\"] = padding_layer(df[\"filteredSMS\"])\n",
    "\n",
    "    # Splitting Data\n",
    "    features, labels = df[\"padded_sms\"].to_list(), df[\"type\"]\n",
    "    x_train, x_test, y_train, y_test = train_test_split(features, labels, test_size=0.3, random_state=2022, stratify=labels)\n",
    "    x_train, x_val, y_train, y_val = train_test_split(x_test, y_test, test_size=0.5, random_state=2022, stratify=y_test)\n",
    "\n",
    "    # Train Model\n",
    "    model = model.fit(x_train, y_train)\n",
    "\n",
    "    # Validate Model\n",
    "    print(\"Validation Results:\")\n",
    "    y_pred = model.predict(x_val)\n",
    "    print(classification_report(y_val, y_pred))\n",
    "\n",
    "    # Test Model\n",
    "    print(\"Testing Results:\")\n",
    "    y_pred = model.predict(x_test)\n",
    "    print(classification_report(y_test, y_pred))\n",
    "\n",
    "    # More Testing Results\n",
    "    print(f\"Accuracy: {accuracy_score(y_test, y_pred)}\")\n",
    "    print(f\"Precision: {precision_score(y_test, y_pred, zero_division=0)}\")\n",
    "    print(f\"Recall: {recall_score(y_test, y_pred, zero_division=0)}\")\n",
    "    rc1, rc2, rc3 = precision_recall_curve(y_test, y_pred)\n",
    "    print(f\"PR_AUC: {auc(rc2,  rc1)}\")\n",
    "    ConfusionMatrixDisplay(confusion_matrix=confusion_matrix(y_test, y_pred), display_labels=[0, 1]).plot()\n",
    "    plt.axis(\"off\")\n",
    "    plt.show()\n",
    "\n",
    "    # Test Model on real-life sms\n",
    "    predict(model, \"how is your day going?\", 0)\n",
    "    predict(model, \"wanna go to the park?\", 0)\n",
    "    predict(model, \"bro, the movie was great! You should watch it too.\", 0)\n",
    "    predict(model, \"free $50 amazon gift card reply back now\", 1)\n",
    "    predict(model, \"Bank of America closed your bank account. Please confirm your pin at bankofamerica.com/cx1234124r1234vb to keep your account activated\", 1)\n",
    "    predict(model, \"You've won a prize! Go to bit.ly/yourprize001 to claim your $500 Amazon gift card\", 1)"
   ],
   "metadata": {
    "collapsed": false
   }
  },
  {
   "cell_type": "markdown",
   "source": [
    "<p style=\"text-align: center;\">ComplementNB</p>"
   ],
   "metadata": {
    "collapsed": false
   }
  },
  {
   "cell_type": "code",
   "execution_count": 17,
   "outputs": [
    {
     "name": "stdout",
     "output_type": "stream",
     "text": [
      "ComplementNB()\n",
      "Validation Results:\n",
      "              precision    recall  f1-score   support\n",
      "\n",
      "           0       0.80      0.88      0.84       112\n",
      "           1       0.86      0.79      0.82       112\n",
      "\n",
      "    accuracy                           0.83       224\n",
      "   macro avg       0.83      0.83      0.83       224\n",
      "weighted avg       0.83      0.83      0.83       224\n",
      "\n",
      "Testing Results:\n",
      "              precision    recall  f1-score   support\n",
      "\n",
      "           0       0.83      0.90      0.87       224\n",
      "           1       0.89      0.82      0.86       224\n",
      "\n",
      "    accuracy                           0.86       448\n",
      "   macro avg       0.86      0.86      0.86       448\n",
      "weighted avg       0.86      0.86      0.86       448\n",
      "\n",
      "Accuracy: 0.8616071428571429\n",
      "Precision: 0.8932038834951457\n",
      "Recall: 0.8214285714285714\n",
      "PR_AUC: 0.9019590846047157\n"
     ]
    },
    {
     "data": {
      "text/plain": "<Figure size 640x480 with 2 Axes>",
      "image/png": "[encoded data removed]"
     },
     "metadata": {},
     "output_type": "display_data"
    },
    {
     "name": "stdout",
     "output_type": "stream",
     "text": [
      "Correct: 0 - Prediction - [0]\n",
      "Correct: 0 - Prediction - [0]\n",
      "Correct: 0 - Prediction - [0]\n",
      "Correct: 1 - Prediction - [0]\n",
      "Correct: 1 - Prediction - [0]\n",
      "Correct: 1 - Prediction - [0]\n"
     ]
    }
   ],
   "source": [
    "run(ComplementNB())"
   ],
   "metadata": {
    "collapsed": false
   }
  },
  {
   "cell_type": "markdown",
   "source": [
    "<p style=\"text-align: center;\">Neural Network</p>"
   ],
   "metadata": {
    "collapsed": false
   }
  },
  {
   "cell_type": "code",
   "execution_count": 18,
   "outputs": [
    {
     "name": "stdout",
     "output_type": "stream",
     "text": [
      "MLPClassifier(max_iter=3000)\n",
      "Validation Results:\n",
      "              precision    recall  f1-score   support\n",
      "\n",
      "           0       0.81      0.84      0.82       112\n",
      "           1       0.83      0.80      0.82       112\n",
      "\n",
      "    accuracy                           0.82       224\n",
      "   macro avg       0.82      0.82      0.82       224\n",
      "weighted avg       0.82      0.82      0.82       224\n",
      "\n",
      "Testing Results:\n",
      "              precision    recall  f1-score   support\n",
      "\n",
      "           0       0.90      0.92      0.91       224\n",
      "           1       0.92      0.90      0.91       224\n",
      "\n",
      "    accuracy                           0.91       448\n",
      "   macro avg       0.91      0.91      0.91       448\n",
      "weighted avg       0.91      0.91      0.91       448\n",
      "\n",
      "Accuracy: 0.9107142857142857\n",
      "Precision: 0.9181818181818182\n",
      "Recall: 0.9017857142857143\n",
      "PR_AUC: 0.9345373376623377\n"
     ]
    },
    {
     "data": {
      "text/plain": "<Figure size 640x480 with 2 Axes>",
      "image/png": "[encoded data removed]"
     },
     "metadata": {},
     "output_type": "display_data"
    },
    {
     "name": "stdout",
     "output_type": "stream",
     "text": [
      "Correct: 0 - Prediction - [0]\n",
      "Correct: 0 - Prediction - [0]\n",
      "Correct: 0 - Prediction - [0]\n",
      "Correct: 1 - Prediction - [0]\n",
      "Correct: 1 - Prediction - [1]\n",
      "Correct: 1 - Prediction - [0]\n"
     ]
    }
   ],
   "source": [
    "run(MLPClassifier(max_iter=3000))"
   ],
   "metadata": {
    "collapsed": false
   }
  }
 ],
 "metadata": {
  "kernelspec": {
   "display_name": "Python 3.9.12 ('base')",
   "language": "python",
   "name": "python3"
  },
  "language_info": {
   "codemirror_mode": {
    "name": "ipython",
    "version": 3
   },
   "file_extension": ".py",
   "mimetype": "text/x-python",
   "name": "python",
   "nbconvert_exporter": "python",
   "pygments_lexer": "ipython3",
   "version": "3.9.12"
  },
  "orig_nbformat": 4,
  "vscode": {
   "interpreter": {
    "hash": "43e34eac3890662f7ed4c344b2cd3566670b78864847db91090bdee248fee56c"
   }
  }
 },
 "nbformat": 4,
 "nbformat_minor": 2
}
