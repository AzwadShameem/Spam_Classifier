{
 "cells": [
  {
   "cell_type": "code",
   "execution_count": 1,
   "metadata": {},
   "outputs": [],
   "source": [
    "import pandas as pd\n",
    "from re import sub as regex\n",
    "from nltk.tokenize import word_tokenize\n",
    "from nltk.corpus import stopwords\n",
    "from nltk.stem import PorterStemmer as Stemmer\n",
    "import matplotlib.pyplot as plt\n",
    "from imblearn.under_sampling import RandomUnderSampler"
   ]
  },
  {
   "cell_type": "code",
   "execution_count": 2,
   "metadata": {},
   "outputs": [
    {
     "data": {
      "text/html": [
       "<div>\n",
       "<style scoped>\n",
       "    .dataframe tbody tr th:only-of-type {\n",
       "        vertical-align: middle;\n",
       "    }\n",
       "\n",
       "    .dataframe tbody tr th {\n",
       "        vertical-align: top;\n",
       "    }\n",
       "\n",
       "    .dataframe thead th {\n",
       "        text-align: right;\n",
       "    }\n",
       "</style>\n",
       "<table border=\"1\" class=\"dataframe\">\n",
       "  <thead>\n",
       "    <tr style=\"text-align: right;\">\n",
       "      <th></th>\n",
       "      <th>type</th>\n",
       "      <th>sms</th>\n",
       "      <th>filteredSMS</th>\n",
       "      <th>processedSMS</th>\n",
       "    </tr>\n",
       "  </thead>\n",
       "  <tbody>\n",
       "    <tr>\n",
       "      <th>0</th>\n",
       "      <td>0</td>\n",
       "      <td>Go until jurong point, crazy.. Available only ...</td>\n",
       "      <td>[go, jurong, point, crazi, avail, bugi, n, gre...</td>\n",
       "      <td>go jurong point crazi avail bugi n great world...</td>\n",
       "    </tr>\n",
       "    <tr>\n",
       "      <th>1</th>\n",
       "      <td>0</td>\n",
       "      <td>Ok lar... Joking wif u oni...</td>\n",
       "      <td>[ok, lar, joke, wif, u, oni]</td>\n",
       "      <td>ok lar joke wif u oni</td>\n",
       "    </tr>\n",
       "    <tr>\n",
       "      <th>2</th>\n",
       "      <td>1</td>\n",
       "      <td>Free entry in 2 a wkly comp to win FA Cup fina...</td>\n",
       "      <td>[free, entri, 2, wkli, comp, win, fa, cup, fin...</td>\n",
       "      <td>free entri 2 wkli comp win fa cup final tkt 21...</td>\n",
       "    </tr>\n",
       "    <tr>\n",
       "      <th>3</th>\n",
       "      <td>0</td>\n",
       "      <td>U dun say so early hor... U c already then say...</td>\n",
       "      <td>[u, dun, say, earli, hor, u, c, alreadi, say]</td>\n",
       "      <td>u dun say earli hor u c alreadi say</td>\n",
       "    </tr>\n",
       "    <tr>\n",
       "      <th>4</th>\n",
       "      <td>0</td>\n",
       "      <td>Nah I don't think he goes to usf, he lives aro...</td>\n",
       "      <td>[nah, think, goe, usf, live, around, though]</td>\n",
       "      <td>nah think goe usf live around though</td>\n",
       "    </tr>\n",
       "  </tbody>\n",
       "</table>\n",
       "</div>"
      ],
      "text/plain": [
       "   type                                                sms  \\\n",
       "0     0  Go until jurong point, crazy.. Available only ...   \n",
       "1     0                      Ok lar... Joking wif u oni...   \n",
       "2     1  Free entry in 2 a wkly comp to win FA Cup fina...   \n",
       "3     0  U dun say so early hor... U c already then say...   \n",
       "4     0  Nah I don't think he goes to usf, he lives aro...   \n",
       "\n",
       "                                         filteredSMS  \\\n",
       "0  [go, jurong, point, crazi, avail, bugi, n, gre...   \n",
       "1                       [ok, lar, joke, wif, u, oni]   \n",
       "2  [free, entri, 2, wkli, comp, win, fa, cup, fin...   \n",
       "3      [u, dun, say, earli, hor, u, c, alreadi, say]   \n",
       "4       [nah, think, goe, usf, live, around, though]   \n",
       "\n",
       "                                        processedSMS  \n",
       "0  go jurong point crazi avail bugi n great world...  \n",
       "1                              ok lar joke wif u oni  \n",
       "2  free entri 2 wkli comp win fa cup final tkt 21...  \n",
       "3                u dun say earli hor u c alreadi say  \n",
       "4               nah think goe usf live around though  "
      ]
     },
     "execution_count": 2,
     "metadata": {},
     "output_type": "execute_result"
    }
   ],
   "source": [
    "df = pd.read_csv(\"spam.csv\", encoding='latin')\n",
    "df = df.drop(columns=[\"Unnamed: 2\", \"Unnamed: 3\", \"Unnamed: 4\"])\n",
    "df[\"type\"] = (df[\"type\"] == \"spam\").astype(int)\n",
    "# Removes special characters - only letters and numbers remain + lowers text\n",
    "df['filteredSMS'] = df['sms'].apply(lambda sms: regex(r'[^a-zA-Z0-9]', ' ', sms.lower()))\n",
    "# Utilizes NLTK to tokenize text\n",
    "df['filteredSMS'] = df['filteredSMS'].apply(lambda sms: word_tokenize(sms))\n",
    "# Utilizes removes NLTK stopwords from sms\n",
    "df['filteredSMS'] = df['filteredSMS'].apply(lambda sms: [word for word in sms if word not in stopwords.words('english')])\n",
    "# Utilizes NLTK Stemmer to stem words\n",
    "df['filteredSMS'] = df['filteredSMS'].apply(lambda sms: [Stemmer().stem(word) for word in sms])\n",
    "# Saves the processed sms in a string\n",
    "df['processedSMS'] = df['filteredSMS'].apply(lambda sms: ' '.join(sms))\n",
    "df.head()"
   ]
  },
  {
   "cell_type": "code",
   "execution_count": 3,
   "metadata": {},
   "outputs": [],
   "source": [
    "dictionary = {}\n",
    "dictionary['[pad]'] = 0\n",
    "dictionary['[empty]'] = 1\n",
    "dictionary['[number]'] = 2\n",
    "for sentence in df['filteredSMS']:\n",
    "    for word in sentence:\n",
    "        if word not in dictionary and not any(charater.isdigit() for charater in word):\n",
    "            dictionary[word] = len(dictionary)\n",
    "\n",
    "# Writing Dictionary to py file\n",
    "with open('dictionary.py', 'w') as file:\n",
    "     file.write(\"dictionary = \")\n",
    "     file.write(str(dictionary))"
   ]
  },
  {
   "cell_type": "code",
   "execution_count": 4,
   "metadata": {},
   "outputs": [
    {
     "name": "stdout",
     "output_type": "stream",
     "text": [
      "Ham (0) vs Spam (1)\n",
      "0    4825\n",
      "1     747\n",
      "Name: type, dtype: int64\n"
     ]
    },
    {
     "data": {
      "image/png": "[encoded data removed]",
      "text/plain": [
       "<Figure size 432x288 with 1 Axes>"
      ]
     },
     "metadata": {},
     "output_type": "display_data"
    }
   ],
   "source": [
    "print(\"Ham (0) vs Spam (1)\")\n",
    "print(df['type'].value_counts())\n",
    "df['type'].value_counts().plot.pie(autopct='%.2f')\n",
    "plt.show()"
   ]
  },
  {
   "cell_type": "code",
   "execution_count": 5,
   "metadata": {},
   "outputs": [
    {
     "name": "stdout",
     "output_type": "stream",
     "text": [
      "Ham (0) vs Spam (1)\n",
      "0    747\n",
      "1    747\n",
      "Name: type, dtype: int64\n"
     ]
    },
    {
     "data": {
      "image/png": "[encoded data removed]",
      "text/plain": [
       "<Figure size 432x288 with 1 Axes>"
      ]
     },
     "metadata": {},
     "output_type": "display_data"
    }
   ],
   "source": [
    "underSampler = RandomUnderSampler(sampling_strategy=1) # Numerical value\n",
    "x, y = underSampler.fit_resample(df[['sms', 'processedSMS', 'filteredSMS']], df['type'])\n",
    "\n",
    "print(\"Ham (0) vs Spam (1)\")\n",
    "print(y.value_counts())\n",
    "ax = y.value_counts().plot.pie(autopct='%.2f')\n",
    "ax.set_title(\"Under Sampled\")\n",
    "plt.show()"
   ]
  },
  {
   "cell_type": "code",
   "execution_count": 6,
   "metadata": {},
   "outputs": [
    {
     "data": {
      "text/html": [
       "<div>\n",
       "<style scoped>\n",
       "    .dataframe tbody tr th:only-of-type {\n",
       "        vertical-align: middle;\n",
       "    }\n",
       "\n",
       "    .dataframe tbody tr th {\n",
       "        vertical-align: top;\n",
       "    }\n",
       "\n",
       "    .dataframe thead th {\n",
       "        text-align: right;\n",
       "    }\n",
       "</style>\n",
       "<table border=\"1\" class=\"dataframe\">\n",
       "  <thead>\n",
       "    <tr style=\"text-align: right;\">\n",
       "      <th></th>\n",
       "      <th>type</th>\n",
       "      <th>sms</th>\n",
       "      <th>processedSMS</th>\n",
       "      <th>filteredSMS</th>\n",
       "    </tr>\n",
       "  </thead>\n",
       "  <tbody>\n",
       "    <tr>\n",
       "      <th>0</th>\n",
       "      <td>0</td>\n",
       "      <td>ok. I am a gentleman and will treat you with d...</td>\n",
       "      <td>ok gentleman treat digniti respect</td>\n",
       "      <td>[ok, gentleman, treat, digniti, respect]</td>\n",
       "    </tr>\n",
       "    <tr>\n",
       "      <th>1</th>\n",
       "      <td>0</td>\n",
       "      <td>Lol its ok I didn't remember til last nite</td>\n",
       "      <td>lol ok rememb til last nite</td>\n",
       "      <td>[lol, ok, rememb, til, last, nite]</td>\n",
       "    </tr>\n",
       "    <tr>\n",
       "      <th>2</th>\n",
       "      <td>0</td>\n",
       "      <td>Apo all other are mokka players only</td>\n",
       "      <td>apo mokka player</td>\n",
       "      <td>[apo, mokka, player]</td>\n",
       "    </tr>\n",
       "    <tr>\n",
       "      <th>3</th>\n",
       "      <td>0</td>\n",
       "      <td>Hey cutie. How goes it? Here in WALES its kind...</td>\n",
       "      <td>hey cuti goe wale kinda ok like hill shit stil...</td>\n",
       "      <td>[hey, cuti, goe, wale, kinda, ok, like, hill, ...</td>\n",
       "    </tr>\n",
       "    <tr>\n",
       "      <th>4</th>\n",
       "      <td>0</td>\n",
       "      <td>How much i gave to you. Morning.</td>\n",
       "      <td>much gave morn</td>\n",
       "      <td>[much, gave, morn]</td>\n",
       "    </tr>\n",
       "  </tbody>\n",
       "</table>\n",
       "</div>"
      ],
      "text/plain": [
       "   type                                                sms  \\\n",
       "0     0  ok. I am a gentleman and will treat you with d...   \n",
       "1     0         Lol its ok I didn't remember til last nite   \n",
       "2     0               Apo all other are mokka players only   \n",
       "3     0  Hey cutie. How goes it? Here in WALES its kind...   \n",
       "4     0                   How much i gave to you. Morning.   \n",
       "\n",
       "                                        processedSMS  \\\n",
       "0                 ok gentleman treat digniti respect   \n",
       "1                        lol ok rememb til last nite   \n",
       "2                                   apo mokka player   \n",
       "3  hey cuti goe wale kinda ok like hill shit stil...   \n",
       "4                                     much gave morn   \n",
       "\n",
       "                                         filteredSMS  \n",
       "0           [ok, gentleman, treat, digniti, respect]  \n",
       "1                 [lol, ok, rememb, til, last, nite]  \n",
       "2                               [apo, mokka, player]  \n",
       "3  [hey, cuti, goe, wale, kinda, ok, like, hill, ...  \n",
       "4                                 [much, gave, morn]  "
      ]
     },
     "execution_count": 6,
     "metadata": {},
     "output_type": "execute_result"
    }
   ],
   "source": [
    "underSampledSpam = pd.concat([y, x], axis=1)\n",
    "underSampledSpam.head()"
   ]
  },
  {
   "cell_type": "code",
   "execution_count": 7,
   "metadata": {},
   "outputs": [],
   "source": [
    "underSampledSpam.to_csv('undersampled_spam.csv', encoding='latin')"
   ]
  }
 ],
 "metadata": {
  "kernelspec": {
   "display_name": "Python 3.9.12 ('base')",
   "language": "python",
   "name": "python3"
  },
  "language_info": {
   "codemirror_mode": {
    "name": "ipython",
    "version": 3
   },
   "file_extension": ".py",
   "mimetype": "text/x-python",
   "name": "python",
   "nbconvert_exporter": "python",
   "pygments_lexer": "ipython3",
   "version": "3.9.12"
  },
  "orig_nbformat": 4,
  "vscode": {
   "interpreter": {
    "hash": "43e34eac3890662f7ed4c344b2cd3566670b78864847db91090bdee248fee56c"
   }
  }
 },
 "nbformat": 4,
 "nbformat_minor": 2
}
