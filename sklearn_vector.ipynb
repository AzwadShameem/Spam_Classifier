{
 "cells": [
  {
   "cell_type": "code",
   "execution_count": 14,
   "metadata": {},
   "outputs": [],
   "source": [
    "import pandas as pd\n",
    "from sklearn.model_selection import train_test_split\n",
    "from sklearn.pipeline import Pipeline\n",
    "from sklearn.feature_extraction.text import TfidfVectorizer\n",
    "from sklearn.naive_bayes import MultinomialNB\n",
    "from sklearn.metrics import classification_report"
   ]
  },
  {
   "cell_type": "code",
   "execution_count": 15,
   "metadata": {},
   "outputs": [
    {
     "data": {
      "text/html": [
       "<div>\n",
       "<style scoped>\n",
       "    .dataframe tbody tr th:only-of-type {\n",
       "        vertical-align: middle;\n",
       "    }\n",
       "\n",
       "    .dataframe tbody tr th {\n",
       "        vertical-align: top;\n",
       "    }\n",
       "\n",
       "    .dataframe thead th {\n",
       "        text-align: right;\n",
       "    }\n",
       "</style>\n",
       "<table border=\"1\" class=\"dataframe\">\n",
       "  <thead>\n",
       "    <tr style=\"text-align: right;\">\n",
       "      <th></th>\n",
       "      <th>type</th>\n",
       "      <th>sms</th>\n",
       "      <th>processedSMS</th>\n",
       "      <th>filteredSMS</th>\n",
       "    </tr>\n",
       "  </thead>\n",
       "  <tbody>\n",
       "    <tr>\n",
       "      <th>0</th>\n",
       "      <td>0</td>\n",
       "      <td>Congrats ! Treat pending.i am not on mail for ...</td>\n",
       "      <td>congrat treat pend mail 2 day mail thru respec...</td>\n",
       "      <td>['congrat', 'treat', 'pend', 'mail', '2', 'day...</td>\n",
       "    </tr>\n",
       "    <tr>\n",
       "      <th>1</th>\n",
       "      <td>0</td>\n",
       "      <td>U GOIN OUT 2NITE?</td>\n",
       "      <td>u goin 2nite</td>\n",
       "      <td>['u', 'goin', '2nite']</td>\n",
       "    </tr>\n",
       "    <tr>\n",
       "      <th>2</th>\n",
       "      <td>0</td>\n",
       "      <td>Please dont say like that. Hi hi hi</td>\n",
       "      <td>pleas dont say like hi hi hi</td>\n",
       "      <td>['pleas', 'dont', 'say', 'like', 'hi', 'hi', '...</td>\n",
       "    </tr>\n",
       "    <tr>\n",
       "      <th>3</th>\n",
       "      <td>0</td>\n",
       "      <td>Ard 4 lor...</td>\n",
       "      <td>ard 4 lor</td>\n",
       "      <td>['ard', '4', 'lor']</td>\n",
       "    </tr>\n",
       "    <tr>\n",
       "      <th>4</th>\n",
       "      <td>0</td>\n",
       "      <td>My friend, she's studying at warwick, we've pl...</td>\n",
       "      <td>friend studi warwick plan go shop concert tmw ...</td>\n",
       "      <td>['friend', 'studi', 'warwick', 'plan', 'go', '...</td>\n",
       "    </tr>\n",
       "  </tbody>\n",
       "</table>\n",
       "</div>"
      ],
      "text/plain": [
       "   type                                                sms  \\\n",
       "0     0  Congrats ! Treat pending.i am not on mail for ...   \n",
       "1     0                                  U GOIN OUT 2NITE?   \n",
       "2     0                Please dont say like that. Hi hi hi   \n",
       "3     0                                       Ard 4 lor...   \n",
       "4     0  My friend, she's studying at warwick, we've pl...   \n",
       "\n",
       "                                        processedSMS  \\\n",
       "0  congrat treat pend mail 2 day mail thru respec...   \n",
       "1                                       u goin 2nite   \n",
       "2                       pleas dont say like hi hi hi   \n",
       "3                                          ard 4 lor   \n",
       "4  friend studi warwick plan go shop concert tmw ...   \n",
       "\n",
       "                                         filteredSMS  \n",
       "0  ['congrat', 'treat', 'pend', 'mail', '2', 'day...  \n",
       "1                             ['u', 'goin', '2nite']  \n",
       "2  ['pleas', 'dont', 'say', 'like', 'hi', 'hi', '...  \n",
       "3                                ['ard', '4', 'lor']  \n",
       "4  ['friend', 'studi', 'warwick', 'plan', 'go', '...  "
      ]
     },
     "execution_count": 15,
     "metadata": {},
     "output_type": "execute_result"
    }
   ],
   "source": [
    "df = pd.read_csv(\"undersampled_spam.csv\", encoding='latin')\n",
    "df = df.drop(columns=[\"Unnamed: 0\"])\n",
    "df.head()"
   ]
  },
  {
   "cell_type": "code",
   "execution_count": 16,
   "metadata": {},
   "outputs": [],
   "source": [
    "features, labels = df['processedSMS'], df['type']\n",
    "X_train, x_test, y_train, y_test = train_test_split(features, labels, test_size=0.15)\n",
    "X_train, x_val, y_train, y_val = train_test_split(features, labels, test_size=0.30)"
   ]
  },
  {
   "cell_type": "code",
   "execution_count": 17,
   "metadata": {},
   "outputs": [],
   "source": [
    "pipe = Pipeline([('vectorizer', TfidfVectorizer()), ('model', MultinomialNB())]).fit(X_train, y_train)"
   ]
  },
  {
   "cell_type": "code",
   "execution_count": 18,
   "metadata": {},
   "outputs": [
    {
     "name": "stdout",
     "output_type": "stream",
     "text": [
      "              precision    recall  f1-score   support\n",
      "\n",
      "           0       0.97      0.97      0.97       122\n",
      "           1       0.96      0.96      0.96       103\n",
      "\n",
      "    accuracy                           0.96       225\n",
      "   macro avg       0.96      0.96      0.96       225\n",
      "weighted avg       0.96      0.96      0.96       225\n",
      "\n"
     ]
    }
   ],
   "source": [
    "y_pred = pipe.predict(x_test)\n",
    "print(classification_report(y_test, y_pred))"
   ]
  },
  {
   "cell_type": "code",
   "execution_count": 19,
   "metadata": {},
   "outputs": [
    {
     "name": "stdout",
     "output_type": "stream",
     "text": [
      "              precision    recall  f1-score   support\n",
      "\n",
      "           0       0.93      0.94      0.94       212\n",
      "           1       0.95      0.94      0.94       237\n",
      "\n",
      "    accuracy                           0.94       449\n",
      "   macro avg       0.94      0.94      0.94       449\n",
      "weighted avg       0.94      0.94      0.94       449\n",
      "\n"
     ]
    }
   ],
   "source": [
    "y_pred = pipe.predict(x_val)\n",
    "print(classification_report(y_val, y_pred))\n"
   ]
  },
  {
   "cell_type": "code",
   "execution_count": 20,
   "metadata": {},
   "outputs": [
    {
     "data": {
      "text/plain": [
       "array([1], dtype=int64)"
      ]
     },
     "execution_count": 20,
     "metadata": {},
     "output_type": "execute_result"
    }
   ],
   "source": [
    "pipe.predict(['amazon free gift card'])"
   ]
  },
  {
   "cell_type": "code",
   "execution_count": 21,
   "metadata": {},
   "outputs": [
    {
     "data": {
      "text/plain": [
       "array([0], dtype=int64)"
      ]
     },
     "execution_count": 21,
     "metadata": {},
     "output_type": "execute_result"
    }
   ],
   "source": [
    "pipe.predict(['how are you today'])"
   ]
  }
 ],
 "metadata": {
  "kernelspec": {
   "display_name": "Python 3.9.12 ('base')",
   "language": "python",
   "name": "python3"
  },
  "language_info": {
   "codemirror_mode": {
    "name": "ipython",
    "version": 3
   },
   "file_extension": ".py",
   "mimetype": "text/x-python",
   "name": "python",
   "nbconvert_exporter": "python",
   "pygments_lexer": "ipython3",
   "version": "3.9.12"
  },
  "orig_nbformat": 4,
  "vscode": {
   "interpreter": {
    "hash": "43e34eac3890662f7ed4c344b2cd3566670b78864847db91090bdee248fee56c"
   }
  }
 },
 "nbformat": 4,
 "nbformat_minor": 2
}
