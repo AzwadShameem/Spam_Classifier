{
 "cells": [
  {
   "cell_type": "code",
   "execution_count": 8,
   "outputs": [],
   "source": [
    "import pandas as pd\n",
    "from re import sub as regex\n",
    "import matplotlib.pyplot as plt\n",
    "from nltk.corpus import stopwords\n",
    "from sklearn.pipeline import Pipeline\n",
    "from nltk.tokenize import word_tokenize\n",
    "from sklearn.naive_bayes import ComplementNB\n",
    "from nltk.stem import PorterStemmer as Stemmer\n",
    "from sklearn.neural_network import MLPClassifier\n",
    "from sklearn.model_selection import train_test_split\n",
    "from sklearn.feature_extraction.text import TfidfVectorizer\n",
    "from sklearn.metrics import classification_report, accuracy_score,precision_score, recall_score, precision_recall_curve, auc, confusion_matrix, ConfusionMatrixDisplay"
   ],
   "metadata": {
    "collapsed": false
   }
  },
  {
   "cell_type": "code",
   "execution_count": 9,
   "metadata": {},
   "outputs": [
    {
     "data": {
      "text/plain": "      type                                                sms  \\\n367      0  I can't speak, bcaz mobile have problem. I can...   \n1269     1  FREE>Ringtone! Reply REAL or POLY eg REAL1 1. ...   \n1352     1  Latest Nokia Mobile or iPOD MP3 Player +  400 ...   \n549      0  Don't make life too stressfull.. Always find t...   \n629      0  No you'll just get a headache trying to figure...   \n\n                                           processedSMS  \\\n367   speak bcaz mobil problem listen cann listen vo...   \n1269  free rington repli real poli eg real1 1 pushbu...   \n1352  latest nokia mobil ipod mp3 player 400 proze g...   \n549   make life stressful alway find time laugh may ...   \n629           get headach tri figur u trust math promis   \n\n                                            filteredSMS  \n367   ['speak', 'bcaz', 'mobil', 'problem', 'listen'...  \n1269  ['free', 'rington', 'repli', 'real', 'poli', '...  \n1352  ['latest', 'nokia', 'mobil', 'ipod', 'mp3', 'p...  \n549   ['make', 'life', 'stressful', 'alway', 'find',...  \n629   ['get', 'headach', 'tri', 'figur', 'u', 'trust...  ",
      "text/html": "<div>\n<style scoped>\n    .dataframe tbody tr th:only-of-type {\n        vertical-align: middle;\n    }\n\n    .dataframe tbody tr th {\n        vertical-align: top;\n    }\n\n    .dataframe thead th {\n        text-align: right;\n    }\n</style>\n<table border=\"1\" class=\"dataframe\">\n  <thead>\n    <tr style=\"text-align: right;\">\n      <th></th>\n      <th>type</th>\n      <th>sms</th>\n      <th>processedSMS</th>\n      <th>filteredSMS</th>\n    </tr>\n  </thead>\n  <tbody>\n    <tr>\n      <th>367</th>\n      <td>0</td>\n      <td>I can't speak, bcaz mobile have problem. I can...</td>\n      <td>speak bcaz mobil problem listen cann listen vo...</td>\n      <td>['speak', 'bcaz', 'mobil', 'problem', 'listen'...</td>\n    </tr>\n    <tr>\n      <th>1269</th>\n      <td>1</td>\n      <td>FREE&gt;Ringtone! Reply REAL or POLY eg REAL1 1. ...</td>\n      <td>free rington repli real poli eg real1 1 pushbu...</td>\n      <td>['free', 'rington', 'repli', 'real', 'poli', '...</td>\n    </tr>\n    <tr>\n      <th>1352</th>\n      <td>1</td>\n      <td>Latest Nokia Mobile or iPOD MP3 Player +  400 ...</td>\n      <td>latest nokia mobil ipod mp3 player 400 proze g...</td>\n      <td>['latest', 'nokia', 'mobil', 'ipod', 'mp3', 'p...</td>\n    </tr>\n    <tr>\n      <th>549</th>\n      <td>0</td>\n      <td>Don't make life too stressfull.. Always find t...</td>\n      <td>make life stressful alway find time laugh may ...</td>\n      <td>['make', 'life', 'stressful', 'alway', 'find',...</td>\n    </tr>\n    <tr>\n      <th>629</th>\n      <td>0</td>\n      <td>No you'll just get a headache trying to figure...</td>\n      <td>get headach tri figur u trust math promis</td>\n      <td>['get', 'headach', 'tri', 'figur', 'u', 'trust...</td>\n    </tr>\n  </tbody>\n</table>\n</div>"
     },
     "execution_count": 9,
     "metadata": {},
     "output_type": "execute_result"
    }
   ],
   "source": [
    "df = pd.read_csv(\"undersampled_spam.csv\", encoding=\"latin\")\n",
    "df = df.drop(columns=[\"Unnamed: 0\"])\n",
    "df.sample(5)"
   ]
  },
  {
   "cell_type": "code",
   "execution_count": 10,
   "outputs": [],
   "source": [
    "def preprocess(sms):\n",
    "    # Lower case\n",
    "    sms = sms.lower()\n",
    "    # Removes special characters - only letters and numbers remain + lowers text\n",
    "    sms = regex(r\"[^a-zA-Z0-9]\", \" \", sms)\n",
    "    # Utilizes NLTK to tokenize text\n",
    "    sms = word_tokenize(sms)\n",
    "    # Utilizes removes NLTK stopwords from sms\n",
    "    sms = [word for word in sms if word not in stopwords.words(\"english\")]\n",
    "    # Utilizes NLTK Stemmer to stem words\n",
    "    sms = [Stemmer().stem(word) for word in sms]\n",
    "    return [\" \".join(sms)]"
   ],
   "metadata": {
    "collapsed": false
   }
  },
  {
   "cell_type": "code",
   "execution_count": 11,
   "outputs": [],
   "source": [
    "def predict(model, sms, label):\n",
    "    print(f\"Correct: {label} - Prediction - {model.predict(preprocess(sms))}\")"
   ],
   "metadata": {
    "collapsed": false
   }
  },
  {
   "cell_type": "code",
   "execution_count": 12,
   "outputs": [],
   "source": [
    "def run(model):\n",
    "    print(model)\n",
    "\n",
    "    # Loading Data\n",
    "    df = pd.read_csv(\"undersampled_spam.csv\", encoding=\"latin\")\n",
    "    df = df.dropna()\n",
    "\n",
    "    # Splitting Data\n",
    "    features, labels = df[\"processedSMS\"] , df[\"type\"]\n",
    "    x_train, x_test, y_train, y_test = train_test_split(features, labels, test_size=0.3, random_state=2022, stratify=labels)\n",
    "    x_test, x_val, y_test, y_val = train_test_split(x_test, y_test, test_size=0.5, random_state=2022, stratify=y_test)\n",
    "\n",
    "    # Train Model\n",
    "    pipeline = Pipeline([(\"vector\", TfidfVectorizer()), (\"model\", model)]).fit(x_train, y_train)\n",
    "\n",
    "    # Validate Model\n",
    "    print(\"Validation Results:\")\n",
    "    y_pred = pipeline.predict(x_val)\n",
    "    print(classification_report(y_val, y_pred))\n",
    "\n",
    "    # Test Model\n",
    "    print(\"Testing Results:\")\n",
    "    y_pred = pipeline.predict(x_test)\n",
    "    print(classification_report(y_test, y_pred))\n",
    "\n",
    "    # More Testing Results\n",
    "    print(f\"Accuracy: {accuracy_score(y_test, y_pred)}\")\n",
    "    print(f\"Precision: {precision_score(y_test, y_pred, zero_division=0)}\")\n",
    "    print(f\"Recall: {recall_score(y_test, y_pred, zero_division=0)}\")\n",
    "    rc1, rc2, rc3 = precision_recall_curve(y_test, y_pred)\n",
    "    print(f\"PR_AUC: {auc(rc2,  rc1)}\")\n",
    "    ConfusionMatrixDisplay(confusion_matrix=confusion_matrix(y_test, y_pred), display_labels=[0, 1]).plot()\n",
    "    plt.show()\n",
    "\n",
    "    # Test Model on real-life sms\n",
    "    predict(pipeline, \"how is your day going?\", 0)\n",
    "    predict(pipeline, \"wanna go to the park?\", 0)\n",
    "    predict(pipeline, \"bro, the movie was great! You should watch it too.\", 0)\n",
    "    predict(pipeline, \"free $50 amazon gift card reply back now\", 1)\n",
    "    predict(pipeline, \"Bank of America closed your bank account. Please confirm your pin at bankofamerica.com/cx1234124r1234vb to keep your account activated\", 1)\n",
    "    predict(pipeline, \"You've won a prize! Go to bit.ly/yourprize001 to claim your $500 Amazon gift card\", 1)"
   ],
   "metadata": {
    "collapsed": false
   }
  },
  {
   "cell_type": "markdown",
   "source": [
    "<p style=\"text-align: center;\">ComplementNB</p>"
   ],
   "metadata": {
    "collapsed": false
   }
  },
  {
   "cell_type": "code",
   "execution_count": 13,
   "outputs": [
    {
     "name": "stdout",
     "output_type": "stream",
     "text": [
      "ComplementNB()\n",
      "Validation Results:\n",
      "              precision    recall  f1-score   support\n",
      "\n",
      "           0       0.98      0.93      0.95       112\n",
      "           1       0.93      0.98      0.96       112\n",
      "\n",
      "    accuracy                           0.96       224\n",
      "   macro avg       0.96      0.96      0.96       224\n",
      "weighted avg       0.96      0.96      0.96       224\n",
      "\n",
      "Testing Results:\n",
      "              precision    recall  f1-score   support\n",
      "\n",
      "           0       0.97      0.94      0.95       112\n",
      "           1       0.94      0.97      0.96       112\n",
      "\n",
      "    accuracy                           0.96       224\n",
      "   macro avg       0.96      0.96      0.96       224\n",
      "weighted avg       0.96      0.96      0.96       224\n",
      "\n",
      "Accuracy: 0.9553571428571429\n",
      "Precision: 0.9396551724137931\n",
      "Recall: 0.9732142857142857\n",
      "PR_AUC: 0.963131157635468\n"
     ]
    },
    {
     "data": {
      "text/plain": "<Figure size 640x480 with 2 Axes>",
      "image/png": "[encoded data removed]"
     },
     "metadata": {},
     "output_type": "display_data"
    },
    {
     "name": "stdout",
     "output_type": "stream",
     "text": [
      "Correct: 0 - Prediction - [0]\n",
      "Correct: 0 - Prediction - [0]\n",
      "Correct: 0 - Prediction - [0]\n",
      "Correct: 1 - Prediction - [1]\n",
      "Correct: 1 - Prediction - [1]\n",
      "Correct: 1 - Prediction - [1]\n"
     ]
    }
   ],
   "source": [
    "run(ComplementNB())"
   ],
   "metadata": {
    "collapsed": false
   }
  },
  {
   "cell_type": "markdown",
   "source": [
    "<p style=\"text-align: center;\">Neural Network</p>"
   ],
   "metadata": {
    "collapsed": false
   }
  },
  {
   "cell_type": "code",
   "execution_count": 14,
   "outputs": [
    {
     "name": "stdout",
     "output_type": "stream",
     "text": [
      "MLPClassifier(max_iter=3000)\n",
      "Validation Results:\n",
      "              precision    recall  f1-score   support\n",
      "\n",
      "           0       0.94      0.95      0.94       112\n",
      "           1       0.95      0.94      0.94       112\n",
      "\n",
      "    accuracy                           0.94       224\n",
      "   macro avg       0.94      0.94      0.94       224\n",
      "weighted avg       0.94      0.94      0.94       224\n",
      "\n",
      "Testing Results:\n",
      "              precision    recall  f1-score   support\n",
      "\n",
      "           0       0.97      0.96      0.97       112\n",
      "           1       0.96      0.97      0.97       112\n",
      "\n",
      "    accuracy                           0.97       224\n",
      "   macro avg       0.97      0.97      0.97       224\n",
      "weighted avg       0.97      0.97      0.97       224\n",
      "\n",
      "Accuracy: 0.96875\n",
      "Precision: 0.9646017699115044\n",
      "Recall: 0.9732142857142857\n",
      "PR_AUC: 0.9756044563843236\n"
     ]
    },
    {
     "data": {
      "text/plain": "<Figure size 640x480 with 2 Axes>",
      "image/png": "[encoded data removed]"
     },
     "metadata": {},
     "output_type": "display_data"
    },
    {
     "name": "stdout",
     "output_type": "stream",
     "text": [
      "Correct: 0 - Prediction - [0]\n",
      "Correct: 0 - Prediction - [0]\n",
      "Correct: 0 - Prediction - [0]\n",
      "Correct: 1 - Prediction - [1]\n",
      "Correct: 1 - Prediction - [0]\n",
      "Correct: 1 - Prediction - [1]\n"
     ]
    }
   ],
   "source": [
    "run(MLPClassifier(max_iter=3000))"
   ],
   "metadata": {
    "collapsed": false
   }
  }
 ],
 "metadata": {
  "kernelspec": {
   "display_name": "Python 3.9.12 ('base')",
   "language": "python",
   "name": "python3"
  },
  "language_info": {
   "codemirror_mode": {
    "name": "ipython",
    "version": 3
   },
   "file_extension": ".py",
   "mimetype": "text/x-python",
   "name": "python",
   "nbconvert_exporter": "python",
   "pygments_lexer": "ipython3",
   "version": "3.9.12"
  },
  "orig_nbformat": 4,
  "vscode": {
   "interpreter": {
    "hash": "43e34eac3890662f7ed4c344b2cd3566670b78864847db91090bdee248fee56c"
   }
  }
 },
 "nbformat": 4,
 "nbformat_minor": 2
}
