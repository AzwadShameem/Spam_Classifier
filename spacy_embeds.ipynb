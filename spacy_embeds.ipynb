{
 "cells": [
  {
   "cell_type": "code",
   "execution_count": 1,
   "metadata": {},
   "outputs": [],
   "source": [
    "import pandas as pd\n",
    "import spacy\n",
    "from sklearn.model_selection import train_test_split\n",
    "from sklearn.pipeline import Pipeline\n",
    "from sklearn.preprocessing import MinMaxScaler\n",
    "from sklearn.naive_bayes import ComplementNB\n",
    "from sklearn.metrics import classification_report"
   ]
  },
  {
   "cell_type": "code",
   "execution_count": 2,
   "metadata": {},
   "outputs": [
    {
     "data": {
      "text/html": [
       "<div>\n",
       "<style scoped>\n",
       "    .dataframe tbody tr th:only-of-type {\n",
       "        vertical-align: middle;\n",
       "    }\n",
       "\n",
       "    .dataframe tbody tr th {\n",
       "        vertical-align: top;\n",
       "    }\n",
       "\n",
       "    .dataframe thead th {\n",
       "        text-align: right;\n",
       "    }\n",
       "</style>\n",
       "<table border=\"1\" class=\"dataframe\">\n",
       "  <thead>\n",
       "    <tr style=\"text-align: right;\">\n",
       "      <th></th>\n",
       "      <th>type</th>\n",
       "      <th>sms</th>\n",
       "      <th>processedSMS</th>\n",
       "      <th>filteredSMS</th>\n",
       "    </tr>\n",
       "  </thead>\n",
       "  <tbody>\n",
       "    <tr>\n",
       "      <th>0</th>\n",
       "      <td>0</td>\n",
       "      <td>ok. I am a gentleman and will treat you with d...</td>\n",
       "      <td>ok gentleman treat digniti respect</td>\n",
       "      <td>['ok', 'gentleman', 'treat', 'digniti', 'respe...</td>\n",
       "    </tr>\n",
       "    <tr>\n",
       "      <th>1</th>\n",
       "      <td>0</td>\n",
       "      <td>Lol its ok I didn't remember til last nite</td>\n",
       "      <td>lol ok rememb til last nite</td>\n",
       "      <td>['lol', 'ok', 'rememb', 'til', 'last', 'nite']</td>\n",
       "    </tr>\n",
       "    <tr>\n",
       "      <th>2</th>\n",
       "      <td>0</td>\n",
       "      <td>Apo all other are mokka players only</td>\n",
       "      <td>apo mokka player</td>\n",
       "      <td>['apo', 'mokka', 'player']</td>\n",
       "    </tr>\n",
       "    <tr>\n",
       "      <th>3</th>\n",
       "      <td>0</td>\n",
       "      <td>Hey cutie. How goes it? Here in WALES its kind...</td>\n",
       "      <td>hey cuti goe wale kinda ok like hill shit stil...</td>\n",
       "      <td>['hey', 'cuti', 'goe', 'wale', 'kinda', 'ok', ...</td>\n",
       "    </tr>\n",
       "    <tr>\n",
       "      <th>4</th>\n",
       "      <td>0</td>\n",
       "      <td>How much i gave to you. Morning.</td>\n",
       "      <td>much gave morn</td>\n",
       "      <td>['much', 'gave', 'morn']</td>\n",
       "    </tr>\n",
       "  </tbody>\n",
       "</table>\n",
       "</div>"
      ],
      "text/plain": [
       "   type                                                sms  \\\n",
       "0     0  ok. I am a gentleman and will treat you with d...   \n",
       "1     0         Lol its ok I didn't remember til last nite   \n",
       "2     0               Apo all other are mokka players only   \n",
       "3     0  Hey cutie. How goes it? Here in WALES its kind...   \n",
       "4     0                   How much i gave to you. Morning.   \n",
       "\n",
       "                                        processedSMS  \\\n",
       "0                 ok gentleman treat digniti respect   \n",
       "1                        lol ok rememb til last nite   \n",
       "2                                   apo mokka player   \n",
       "3  hey cuti goe wale kinda ok like hill shit stil...   \n",
       "4                                     much gave morn   \n",
       "\n",
       "                                         filteredSMS  \n",
       "0  ['ok', 'gentleman', 'treat', 'digniti', 'respe...  \n",
       "1     ['lol', 'ok', 'rememb', 'til', 'last', 'nite']  \n",
       "2                         ['apo', 'mokka', 'player']  \n",
       "3  ['hey', 'cuti', 'goe', 'wale', 'kinda', 'ok', ...  \n",
       "4                           ['much', 'gave', 'morn']  "
      ]
     },
     "execution_count": 2,
     "metadata": {},
     "output_type": "execute_result"
    }
   ],
   "source": [
    "df = pd.read_csv(\"undersampled_spam.csv\", encoding='latin')\n",
    "df = df.drop(columns=[\"Unnamed: 0\"])\n",
    "df.head()"
   ]
  },
  {
   "cell_type": "code",
   "execution_count": 3,
   "metadata": {},
   "outputs": [],
   "source": [
    "embedder = spacy.load('en_core_web_sm')\n",
    "embedding_layer = [embedder(i).vector.reshape(1, -1)[0] for i in df['processedSMS']]"
   ]
  },
  {
   "cell_type": "code",
   "execution_count": 4,
   "metadata": {},
   "outputs": [],
   "source": [
    "features, labels = embedding_layer , df['type']\n",
    "x_train, x_test, y_train, y_test = train_test_split(features, labels, test_size=0.15)\n",
    "x_train, x_val, y_train, y_val = train_test_split(features, labels, test_size=0.30)"
   ]
  },
  {
   "cell_type": "code",
   "execution_count": 5,
   "metadata": {},
   "outputs": [],
   "source": [
    "pipeline = Pipeline([('Normalizing', MinMaxScaler()), ('Model', ComplementNB())]).fit(x_train, y_train) "
   ]
  },
  {
   "cell_type": "code",
   "execution_count": 6,
   "metadata": {},
   "outputs": [
    {
     "name": "stdout",
     "output_type": "stream",
     "text": [
      "              precision    recall  f1-score   support\n",
      "\n",
      "           0       0.91      0.89      0.90       120\n",
      "           1       0.88      0.90      0.89       105\n",
      "\n",
      "    accuracy                           0.90       225\n",
      "   macro avg       0.90      0.90      0.90       225\n",
      "weighted avg       0.90      0.90      0.90       225\n",
      "\n"
     ]
    }
   ],
   "source": [
    "y_pred = pipeline.predict(x_test)\n",
    "print(classification_report(y_test, y_pred))"
   ]
  },
  {
   "cell_type": "code",
   "execution_count": 7,
   "metadata": {},
   "outputs": [
    {
     "name": "stdout",
     "output_type": "stream",
     "text": [
      "              precision    recall  f1-score   support\n",
      "\n",
      "           0       0.93      0.90      0.92       238\n",
      "           1       0.89      0.92      0.91       211\n",
      "\n",
      "    accuracy                           0.91       449\n",
      "   macro avg       0.91      0.91      0.91       449\n",
      "weighted avg       0.91      0.91      0.91       449\n",
      "\n"
     ]
    }
   ],
   "source": [
    "y_pred = pipeline.predict(x_val)\n",
    "print(classification_report(y_val, y_pred))"
   ]
  },
  {
   "cell_type": "code",
   "execution_count": 8,
   "metadata": {},
   "outputs": [
    {
     "data": {
      "text/plain": [
       "array([1], dtype=int64)"
      ]
     },
     "execution_count": 8,
     "metadata": {},
     "output_type": "execute_result"
    }
   ],
   "source": [
    "input = \"free amazon gift card\"\n",
    "pipeline.predict(embedder(input).vector.reshape(1, -1))"
   ]
  },
  {
   "cell_type": "code",
   "execution_count": 9,
   "metadata": {},
   "outputs": [
    {
     "data": {
      "text/plain": [
       "array([0], dtype=int64)"
      ]
     },
     "execution_count": 9,
     "metadata": {},
     "output_type": "execute_result"
    }
   ],
   "source": [
    "input = \"how are you\"\n",
    "pipeline.predict(embedder(input).vector.reshape(1, -1))"
   ]
  }
 ],
 "metadata": {
  "kernelspec": {
   "display_name": "Python 3.9.12 ('base')",
   "language": "python",
   "name": "python3"
  },
  "language_info": {
   "codemirror_mode": {
    "name": "ipython",
    "version": 3
   },
   "file_extension": ".py",
   "mimetype": "text/x-python",
   "name": "python",
   "nbconvert_exporter": "python",
   "pygments_lexer": "ipython3",
   "version": "3.9.12"
  },
  "orig_nbformat": 4,
  "vscode": {
   "interpreter": {
    "hash": "43e34eac3890662f7ed4c344b2cd3566670b78864847db91090bdee248fee56c"
   }
  }
 },
 "nbformat": 4,
 "nbformat_minor": 2
}
